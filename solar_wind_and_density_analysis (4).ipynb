{
  "nbformat": 4,
  "nbformat_minor": 0,
  "metadata": {
    "colab": {
      "private_outputs": true,
      "provenance": []
    },
    "kernelspec": {
      "name": "python3",
      "display_name": "Python 3"
    },
    "language_info": {
      "name": "python"
    }
  },
  "cells": [
    {
      "cell_type": "markdown",
      "source": [
        "### Data request function"
      ],
      "metadata": {
        "id": "3JYLIF_Nh8bX"
      }
    },
    {
      "cell_type": "code",
      "source": [
        "import requests\n",
        "from bs4 import BeautifulSoup\n",
        "import csv\n",
        "import pandas as pd\n",
        "\n",
        "def collect_data_from_online_and_preprocess(start_date,end_date):\n",
        "\n",
        "  # OMNIWeb endpoint for data retrieval\n",
        "  url = \"https://omniweb.gsfc.nasa.gov/cgi/nx1.cgi\"\n",
        "\n",
        "  start_data=str(start_date);\n",
        "  end_date=str(end_date);\n",
        "  # Define request parameters\n",
        "  params = {\n",
        "      \"activity\": \"retrieve\",        # Correct activity value for list data\n",
        "      \"res\": \"day\",              # Daily-averaged data\n",
        "      \"start_date\": start_data,  # Start date (YYYYMMDD)\n",
        "      \"end_date\": end_date,    # End date (YYYYMMDD)\n",
        "      \"vars\": [\"24\", \"30\"],      # Flow Speed/ plasma speed(code: 24) and Sigma-Np(code:30)\n",
        "      \"sc_id\": \"ACE\",             # Spacecraft ID (e.g., ACE, WIND)\n",
        "      \"spacecraft\": \"omni2\",\n",
        "  }\n",
        "\n",
        "  # Show the request details before sending it\n",
        "  #print(f\"URL: {url}\")\n",
        "  #print(f\"Parameters: {params}\")\n",
        "\n",
        "  # Send POST request\n",
        "  print(\"1. Data Requesting please wait\")\n",
        "  print(\"*************************************************\")\n",
        "  response = requests.post(url, data=params)\n",
        "\n",
        "  # Check if the request was successful\n",
        "  if response.status_code == 200:\n",
        "      print(f\"2. Request was successful!\")\n",
        "      print(f\"Response Status Code: {response.status_code}\")\n",
        "      print(\"*************************************************\")\n",
        "      print(f\"Response Content: \\n{response.text[:350]}\")  # Print the first 100 characters of the response to prevent overwhelming output\n",
        "  else:\n",
        "      print(f\"Error: Unable to retrieve data. Status Code: {response.status_code}\")\n",
        "      print(f\"Response Content: {response.text}\")\n",
        "\n",
        "  print(\"3. Data Processing please wait\")\n",
        "  print(\"*************************************************\")\n",
        "  html_content = response.text  # Use `.text` for string data\n",
        "  # Parse the HTML content using BeautifulSoup\n",
        "  soup = BeautifulSoup(html_content, \"html.parser\")\n",
        "\n",
        "  # Extract the content inside <pre> tags\n",
        "  pre_content = soup.find(\"pre\").text\n",
        "\n",
        "  # Print the extracted content\n",
        "  #print(pre_content)\n",
        "\n",
        "  # Process the data into lines\n",
        "  lines = pre_content.strip().split(\"\\n\")\n",
        "\n",
        "  # Extract the header and data rows\n",
        "  data_c = ((lines[1].split(\" \"))[2:4])\n",
        "  data_colmn1 =\"_\".join(data_c)\n",
        "  data_colmn2 = (lines[2].split(\" \"))[2][:-1]\n",
        "  header = lines[4].split()\n",
        "  header.remove(\"1\")\n",
        "  header.remove(\"2\")\n",
        "  header.insert(3, data_colmn1)\n",
        "  header.insert(4, data_colmn2)\n",
        "  data_rows = [line.split() for line in lines[5:]]\n",
        "\n",
        "  # Write to a CSV file\n",
        "  output_file = \"plasma_data.csv\"\n",
        "  with open(output_file, mode=\"w\", newline=\"\") as file:\n",
        "      writer = csv.writer(file)\n",
        "      writer.writerow(header)  # Write the header row\n",
        "      writer.writerows(data_rows)  # Write the data rows\n",
        "  # Load the CSV file\n",
        "  print(f\"4. Data successfully written to {output_file}\")\n",
        "  print(\"*************************************************\")\n",
        "\n",
        "  # data load to memory as pd\n",
        "  data = pd.read_csv('plasma_data.csv')\n",
        "  print(\"5. Data Loaded Sucessfully to Memory\")\n",
        "  print(\"*************************************************\")\n",
        "  print(\"***************First Some Row********************\")\n",
        "  print(\"*************************************************\")\n",
        "  print(data.head())\n",
        "  print(\"*************************************************\")\n",
        "  print(\"*************Data Description fresh data*********\")\n",
        "  print(\"*************************************************\")\n",
        "  print(data.describe())\n",
        "  return data\n",
        "\n"
      ],
      "metadata": {
        "id": "B62GJu6VpmdG",
        "collapsed": true
      },
      "execution_count": null,
      "outputs": []
    },
    {
      "cell_type": "markdown",
      "source": [
        "### Data Cleaning Function"
      ],
      "metadata": {
        "id": "FVNkmstUiLa-"
      }
    },
    {
      "cell_type": "code",
      "source": [
        "def data_cleaning(data):\n",
        "  print(\"*************************************************\")\n",
        "  print(\"**********************Cleaning Data**************\")\n",
        "  print(\"*************************************************\")\n",
        "\n",
        "  # Remove rows where 'SW_Plasma' is 9999.0\n",
        "  print(\"Remove rows where 'SW_Plasma' is 9999.0\")\n",
        "  data_cleaned = data[data['SW_Plasma'] != 9999.0]\n",
        "\n",
        "  # Remove rows where 'sigma-n' is 999.9\n",
        "  print(\"Remove rows where 'sigma-n' is 999.9\")\n",
        "  data_cleaned = data[data['sigma-n'] != 999.9]\n",
        "\n",
        "  print(\"*************************************************\")\n",
        "  print(\"*************Data Description Cleaned Data*******\")\n",
        "  print(\"*************************************************\")\n",
        "  print(data_cleaned.describe())\n",
        "  return data_cleaned"
      ],
      "metadata": {
        "id": "ojeNr7cO5EMr"
      },
      "execution_count": null,
      "outputs": []
    },
    {
      "cell_type": "markdown",
      "source": [
        "## Scatter ploting function"
      ],
      "metadata": {
        "id": "pMoZG0IciSk1"
      }
    },
    {
      "cell_type": "code",
      "source": [
        "import matplotlib.pyplot as plt\n",
        "\n",
        "def scatter_plot(data,type_data ):\n",
        "  print(\"*************************************************\")\n",
        "  print(\"*************Scatter plotting *******************\")\n",
        "  print(\"*************************************************\")\n",
        "  # Create a scatter plot of Solar Wind Speed vs Density\n",
        "  plt.figure(figsize=(8, 6))\n",
        "  plt.scatter(y=data['SW_Plasma'],x=data['sigma-n'], color='blue', alpha=0.5)\n",
        "  plt.title('Scatter Plot: Solar Wind Speed vs Density'+type_data)\n",
        "  plt.ylabel('Solar Wind Speed (km/s)')\n",
        "  plt.xlabel('Density (N/cm^3)')\n",
        "  plt.grid(True)\n",
        "  plt.show()\n"
      ],
      "metadata": {
        "id": "8t1yEsGOib-L"
      },
      "execution_count": null,
      "outputs": []
    },
    {
      "cell_type": "markdown",
      "source": [
        "## Compute corelation function"
      ],
      "metadata": {
        "id": "7cKk9m_gi6tW"
      }
    },
    {
      "cell_type": "code",
      "source": [
        "# Compute the correlation coefficient between 'SW Plasma Speed' and 'sigma-n'\n",
        "def compute_correlation(data):\n",
        "  print(\"*************************************************\")\n",
        "  print(\"*************Describing Correlation**************\")\n",
        "  print(\"*************************************************\")\n",
        "  correlation = data['SW_Plasma'].corr(data['sigma-n'])\n",
        "  print(f\"Correlation between Solar Wind Speed and Density: {correlation:.2f}\")"
      ],
      "metadata": {
        "id": "-I4RSPMvjUMV"
      },
      "execution_count": null,
      "outputs": []
    },
    {
      "cell_type": "markdown",
      "source": [
        "## Separate Data based on Solar wind Speed"
      ],
      "metadata": {
        "id": "QaaAF4QBFfdj"
      }
    },
    {
      "cell_type": "code",
      "source": [
        "def separte_corelation_and_polt_based_on_solar_wind(data):\n",
        "  # Categorize into fast, medium, and slow\n",
        "  fast_solar_wind = data[data['SW_Plasma'] > 700]\n",
        "  slow_solar_wind = data[data['SW_Plasma'] < 445]\n",
        "  medium_solar_wind = data[(data['SW_Plasma'] >= 445) & (data['SW_Plasma'] <= 700)]\n",
        "  print(\"*************************************************\")\n",
        "  print(\"**Describing Corelationa for Fast Solar Wind**\")\n",
        "  print(\"*************************************************\")\n",
        "  scatter_plot(fast_solar_wind,\"(Fast Solar Wind)\")\n",
        "  compute_correlation(fast_solar_wind)\n",
        "  print(\"*************************************************\")\n",
        "  print(\"**Describing Corelationa for Medium Solar Wind**\")\n",
        "  print(\"*************************************************\")\n",
        "  scatter_plot(medium_solar_wind,\"(Medium Solar Wind)\")\n",
        "  compute_correlation(medium_solar_wind)\n",
        "  print(\"*************************************************\")\n",
        "  print(\"**Describing Corelationa for Slow Solar Wind**\")\n",
        "  print(\"*************************************************\")\n",
        "  scatter_plot(slow_solar_wind,\"(Slow Solar Wind)\")\n",
        "  compute_correlation(slow_solar_wind)\n"
      ],
      "metadata": {
        "id": "fP7RcsEbFeem"
      },
      "execution_count": null,
      "outputs": []
    },
    {
      "cell_type": "markdown",
      "source": [
        "## Main function"
      ],
      "metadata": {
        "id": "wE2Rd85Yicj9"
      }
    },
    {
      "cell_type": "code",
      "source": [
        "data = collect_data_from_online_and_preprocess(19960101 ,20081231) #Start date (YYYYMMDD) End date (YYYYMMDD)\n",
        "plasma_data = data_cleaning(data);\n",
        "scatter_plot(plasma_data,\"(Overal)\")\n",
        "compute_correlation(plasma_data)\n",
        "separte_corelation_and_polt_based_on_solar_wind(plasma_data)\n"
      ],
      "metadata": {
        "collapsed": true,
        "id": "Op3mtxPRyLyy"
      },
      "execution_count": null,
      "outputs": []
    },
    {
      "cell_type": "code",
      "source": [
        "data = collect_data_from_online_and_preprocess(20081231 ,20191231) #Start date (YYYYMMDD) End date (YYYYMMDD)\n",
        "plasma_data = data_cleaning(data);\n",
        "scatter_plot(plasma_data,\"(Overal)\")\n",
        "compute_correlation(plasma_data)\n",
        "separte_corelation_and_polt_based_on_solar_wind(plasma_data)"
      ],
      "metadata": {
        "id": "7SrJUsdQAcJf"
      },
      "execution_count": null,
      "outputs": []
    }
  ]
}